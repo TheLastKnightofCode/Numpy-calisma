{
  "nbformat": 4,
  "nbformat_minor": 0,
  "metadata": {
    "colab": {
      "provenance": [],
      "collapsed_sections": [
        "G_98cu-xKkVv",
        "Zdpi4EiuKoXt",
        "LG62bBjhKsfM",
        "8JRyq4xDKxam",
        "Xl2nOc5YK2It",
        "NTBNcyYtK8Me",
        "-4bKnyxKLCr2",
        "PNDbyVhvLGF5",
        "CTdmNZjeLKQS",
        "Wht916xgMeY2",
        "5krkD167QOM0"
      ]
    },
    "kernelspec": {
      "name": "python3",
      "display_name": "Python 3"
    },
    "language_info": {
      "name": "python"
    }
  },
  "cells": [
    {
      "cell_type": "code",
      "source": [
        "import numpy as np"
      ],
      "metadata": {
        "id": "_1pop-OEmVMx"
      },
      "execution_count": null,
      "outputs": []
    },
    {
      "cell_type": "markdown",
      "source": [
        "#Numpy ile Nokta Doğru Düzlem ve Uzay"
      ],
      "metadata": {
        "id": "G_98cu-xKkVv"
      }
    },
    {
      "cell_type": "code",
      "source": [
        "skaler=np.array(90)\n",
        "print(skaler)"
      ],
      "metadata": {
        "colab": {
          "base_uri": "https://localhost:8080/"
        },
        "id": "YC1MC0S6zDG6",
        "outputId": "8db2a011-67e6-4cf5-a6e0-f2da14ea3434"
      },
      "execution_count": null,
      "outputs": [
        {
          "output_type": "stream",
          "name": "stdout",
          "text": [
            "90\n"
          ]
        }
      ]
    },
    {
      "cell_type": "code",
      "source": [
        "vektor=np.array([1,2,3,4,5,6])\n",
        "print(vektor)"
      ],
      "metadata": {
        "colab": {
          "base_uri": "https://localhost:8080/"
        },
        "id": "mgC5e4aOzN-1",
        "outputId": "a36e54f2-e9b0-49a2-88a7-36226205baa1"
      },
      "execution_count": null,
      "outputs": [
        {
          "output_type": "stream",
          "name": "stdout",
          "text": [
            "[1 2 3 4 5 6]\n"
          ]
        }
      ]
    },
    {
      "cell_type": "code",
      "source": [
        "matris=np.array([[1,2,3],[4,5,6],[7,8,9]])\n",
        "print(matris)"
      ],
      "metadata": {
        "colab": {
          "base_uri": "https://localhost:8080/"
        },
        "id": "jjmUk8t7zXfM",
        "outputId": "a1a7675f-923e-4545-9da3-b1e43709aa7f"
      },
      "execution_count": null,
      "outputs": [
        {
          "output_type": "stream",
          "name": "stdout",
          "text": [
            "[[1 2 3]\n",
            " [4 5 6]\n",
            " [7 8 9]]\n"
          ]
        }
      ]
    },
    {
      "cell_type": "code",
      "source": [
        "\n",
        "tensor = np.array([\n",
        "    [[1,2,3], [4,5,6]],\n",
        "    [[1,2,3], [4,5,6]],\n",
        "    [[1,2,3], [4,5,6]]\n",
        "])\n",
        "\n",
        "print(tensor)\n"
      ],
      "metadata": {
        "colab": {
          "base_uri": "https://localhost:8080/"
        },
        "id": "EW4-Imgmzy8P",
        "outputId": "d0b5f9b9-9504-4d54-fd8c-78eb86462fea"
      },
      "execution_count": null,
      "outputs": [
        {
          "output_type": "stream",
          "name": "stdout",
          "text": [
            "[[[1 2 3]\n",
            "  [4 5 6]]\n",
            "\n",
            " [[1 2 3]\n",
            "  [4 5 6]]\n",
            "\n",
            " [[1 2 3]\n",
            "  [4 5 6]]]\n"
          ]
        }
      ]
    },
    {
      "cell_type": "markdown",
      "source": [
        "# Neden Numpy ?"
      ],
      "metadata": {
        "id": "Zdpi4EiuKoXt"
      }
    },
    {
      "cell_type": "code",
      "source": [
        "# Bu işlemi numpy olmadan yapsaydık 100 kat daha yavaş sonuç alırdık.Yani numpy 100 kat hız kazandırır.\n",
        "import time\n",
        "z1=time.time()\n",
        "\n",
        "liste1=np.arange(1_000_000)**100\n",
        "\n",
        "z2=time.time()\n",
        "\n",
        "print(z2-z1)\n"
      ],
      "metadata": {
        "colab": {
          "base_uri": "https://localhost:8080/"
        },
        "id": "30GIT0DH1eKl",
        "outputId": "d076fb54-2da6-43c5-9349-51c5e2dab52d"
      },
      "execution_count": null,
      "outputs": [
        {
          "output_type": "stream",
          "name": "stdout",
          "text": [
            "0.039199113845825195\n"
          ]
        }
      ]
    },
    {
      "cell_type": "markdown",
      "source": [
        "#VEKTÖRLERDE index ve slice"
      ],
      "metadata": {
        "id": "LG62bBjhKsfM"
      }
    },
    {
      "cell_type": "code",
      "source": [
        "###index\n",
        "vektor=np.array([1,2,3,4,5])\n",
        "vektor[-1]"
      ],
      "metadata": {
        "colab": {
          "base_uri": "https://localhost:8080/"
        },
        "id": "igZVXhsAvQth",
        "outputId": "f496f7c9-f654-455b-81ea-39193f472ad5"
      },
      "execution_count": null,
      "outputs": [
        {
          "output_type": "execute_result",
          "data": {
            "text/plain": [
              "np.int64(5)"
            ]
          },
          "metadata": {},
          "execution_count": 7
        }
      ]
    },
    {
      "cell_type": "code",
      "source": [
        "###slice\n",
        "vektor[1:4:2]"
      ],
      "metadata": {
        "colab": {
          "base_uri": "https://localhost:8080/"
        },
        "id": "a2BVbeaovbCV",
        "outputId": "b51df335-ec67-4ae8-9129-6f9b7effec41"
      },
      "execution_count": null,
      "outputs": [
        {
          "output_type": "execute_result",
          "data": {
            "text/plain": [
              "array([2, 4])"
            ]
          },
          "metadata": {},
          "execution_count": 29
        }
      ]
    },
    {
      "cell_type": "markdown",
      "source": [
        "#size shape ndim dtype"
      ],
      "metadata": {
        "id": "8JRyq4xDKxam"
      }
    },
    {
      "cell_type": "code",
      "source": [
        "vektor=np.array([1,2,3,4,5,6,7,8,9])\n",
        "matris=np.array([[1,2,3],[4,5,6],[7,8,9]])"
      ],
      "metadata": {
        "id": "HUi9RQXivpLC"
      },
      "execution_count": null,
      "outputs": []
    },
    {
      "cell_type": "code",
      "source": [
        "vektor.size#eleman sayısını verir"
      ],
      "metadata": {
        "colab": {
          "base_uri": "https://localhost:8080/"
        },
        "id": "NLCRaKCYxVXU",
        "outputId": "6c580b7a-d6df-4d6d-d600-0eb870ca6d02"
      },
      "execution_count": null,
      "outputs": [
        {
          "output_type": "execute_result",
          "data": {
            "text/plain": [
              "9"
            ]
          },
          "metadata": {},
          "execution_count": 14
        }
      ]
    },
    {
      "cell_type": "code",
      "source": [
        "matris.size"
      ],
      "metadata": {
        "colab": {
          "base_uri": "https://localhost:8080/"
        },
        "id": "5yW9byffxakQ",
        "outputId": "6f5023e9-ab89-4eae-c13b-bade5b0e9b50"
      },
      "execution_count": null,
      "outputs": [
        {
          "output_type": "execute_result",
          "data": {
            "text/plain": [
              "9"
            ]
          },
          "metadata": {},
          "execution_count": 15
        }
      ]
    },
    {
      "cell_type": "code",
      "source": [
        "vektor.shape#burda tek boyutlu olduğu için eleman sayısı ve hiç bir şey yazmaz boyutsuz çünkü"
      ],
      "metadata": {
        "colab": {
          "base_uri": "https://localhost:8080/"
        },
        "id": "Wk2fBeTJxjsq",
        "outputId": "ec3dbf23-2457-4d38-d7b5-29bd20dd2210"
      },
      "execution_count": null,
      "outputs": [
        {
          "output_type": "execute_result",
          "data": {
            "text/plain": [
              "(9,)"
            ]
          },
          "metadata": {},
          "execution_count": 16
        }
      ]
    },
    {
      "cell_type": "code",
      "source": [
        "matris.shape#burda 3 tane [] var onların içinde 3 tane eleman var o yüzden (3,3)"
      ],
      "metadata": {
        "colab": {
          "base_uri": "https://localhost:8080/"
        },
        "id": "coy6d-XAxqaq",
        "outputId": "1a77abcc-115d-4711-8b29-3923a45333e7"
      },
      "execution_count": null,
      "outputs": [
        {
          "output_type": "execute_result",
          "data": {
            "text/plain": [
              "(3, 3)"
            ]
          },
          "metadata": {},
          "execution_count": 17
        }
      ]
    },
    {
      "cell_type": "code",
      "source": [
        "vektor.ndim#boyut sayısını verir"
      ],
      "metadata": {
        "colab": {
          "base_uri": "https://localhost:8080/"
        },
        "id": "lka_UAYoxuoj",
        "outputId": "fafe1f7e-a9d1-4d0d-f34b-4f6dfa3c3d1c"
      },
      "execution_count": null,
      "outputs": [
        {
          "output_type": "execute_result",
          "data": {
            "text/plain": [
              "1"
            ]
          },
          "metadata": {},
          "execution_count": 18
        }
      ]
    },
    {
      "cell_type": "code",
      "source": [
        "matris.ndim"
      ],
      "metadata": {
        "colab": {
          "base_uri": "https://localhost:8080/"
        },
        "id": "MKIl3V3zyPXR",
        "outputId": "dea28a68-c3e7-42c0-d141-89b48c971870"
      },
      "execution_count": null,
      "outputs": [
        {
          "output_type": "execute_result",
          "data": {
            "text/plain": [
              "2"
            ]
          },
          "metadata": {},
          "execution_count": 19
        }
      ]
    },
    {
      "cell_type": "code",
      "source": [
        "vektor.dtype# elemanların tipini gösterir(numpy nin type() ı )"
      ],
      "metadata": {
        "colab": {
          "base_uri": "https://localhost:8080/"
        },
        "id": "R1XGx45FyQ-n",
        "outputId": "86adc8b4-221a-4383-ad6f-0d3b6976c101"
      },
      "execution_count": null,
      "outputs": [
        {
          "output_type": "execute_result",
          "data": {
            "text/plain": [
              "dtype('int64')"
            ]
          },
          "metadata": {},
          "execution_count": 20
        }
      ]
    },
    {
      "cell_type": "code",
      "source": [
        "matris.dtype"
      ],
      "metadata": {
        "colab": {
          "base_uri": "https://localhost:8080/"
        },
        "id": "a1ONgaIkyYLX",
        "outputId": "792518ea-222c-4b4c-be1e-1f20966a47f7"
      },
      "execution_count": null,
      "outputs": [
        {
          "output_type": "execute_result",
          "data": {
            "text/plain": [
              "dtype('int64')"
            ]
          },
          "metadata": {},
          "execution_count": 21
        }
      ]
    },
    {
      "cell_type": "code",
      "source": [
        "type(vektor)"
      ],
      "metadata": {
        "colab": {
          "base_uri": "https://localhost:8080/"
        },
        "id": "xIVbyC6GyaOm",
        "outputId": "d03cb47f-d575-45b9-cb17-0e9591ea1542"
      },
      "execution_count": null,
      "outputs": [
        {
          "output_type": "execute_result",
          "data": {
            "text/plain": [
              "numpy.ndarray"
            ]
          },
          "metadata": {},
          "execution_count": 22
        }
      ]
    },
    {
      "cell_type": "code",
      "source": [
        "type(matris)"
      ],
      "metadata": {
        "colab": {
          "base_uri": "https://localhost:8080/"
        },
        "id": "3xq8-IKLyq6M",
        "outputId": "89bfa6e1-2a8a-4ea3-be00-b21f0a5435e6"
      },
      "execution_count": null,
      "outputs": [
        {
          "output_type": "execute_result",
          "data": {
            "text/plain": [
              "numpy.ndarray"
            ]
          },
          "metadata": {},
          "execution_count": 23
        }
      ]
    },
    {
      "cell_type": "markdown",
      "source": [
        "# Numpy veri değiştirme"
      ],
      "metadata": {
        "id": "Xl2nOc5YK2It"
      }
    },
    {
      "cell_type": "code",
      "source": [
        "sayilar=np.array([1,2,3,4,5,6,7,8,9],dtype=\"float64\")\n",
        "sayilar"
      ],
      "metadata": {
        "colab": {
          "base_uri": "https://localhost:8080/"
        },
        "id": "CB2B8lMwzrEh",
        "outputId": "fa9c6be0-8390-4fa8-b3c2-74d7aad51c7a"
      },
      "execution_count": null,
      "outputs": [
        {
          "output_type": "execute_result",
          "data": {
            "text/plain": [
              "array([1., 2., 3., 4., 5., 6., 7., 8., 9.])"
            ]
          },
          "metadata": {},
          "execution_count": 25
        }
      ]
    },
    {
      "cell_type": "code",
      "source": [
        "sayilar=sayilar.astype(\"int32\")\n",
        "sayilar"
      ],
      "metadata": {
        "colab": {
          "base_uri": "https://localhost:8080/"
        },
        "id": "XHh4CAxaz4WQ",
        "outputId": "fb79eebe-17f4-4632-db94-92453bd5211b"
      },
      "execution_count": null,
      "outputs": [
        {
          "output_type": "execute_result",
          "data": {
            "text/plain": [
              "array([1, 2, 3, 4, 5, 6, 7, 8, 9], dtype=int32)"
            ]
          },
          "metadata": {},
          "execution_count": 26
        }
      ]
    },
    {
      "cell_type": "code",
      "source": [
        "tarih=np.array([\"2025-04-27\"])\n",
        "tarih.dtype#çıktısı obje şeklinde olur"
      ],
      "metadata": {
        "colab": {
          "base_uri": "https://localhost:8080/"
        },
        "id": "8B1p7t5O0Cge",
        "outputId": "5a66bf7f-a032-4492-eab7-549a4c7dfc75"
      },
      "execution_count": null,
      "outputs": [
        {
          "output_type": "execute_result",
          "data": {
            "text/plain": [
              "dtype('<U10')"
            ]
          },
          "metadata": {},
          "execution_count": 27
        }
      ]
    },
    {
      "cell_type": "code",
      "source": [
        "tarih=tarih.astype(\"datetime64\")#tarih i tarih değişkenine atıyoruz işimiz kolay olsun\n",
        "tarih.dtype"
      ],
      "metadata": {
        "colab": {
          "base_uri": "https://localhost:8080/"
        },
        "id": "MDTJom2A0noW",
        "outputId": "6eb5100f-eafd-4cb8-9470-d995eeb60880"
      },
      "execution_count": null,
      "outputs": [
        {
          "output_type": "execute_result",
          "data": {
            "text/plain": [
              "dtype('<M8[D]')"
            ]
          },
          "metadata": {},
          "execution_count": 28
        }
      ]
    },
    {
      "cell_type": "markdown",
      "source": [
        "#MATRİSLERDE slice"
      ],
      "metadata": {
        "id": "NTBNcyYtK8Me"
      }
    },
    {
      "cell_type": "code",
      "source": [
        "matris=np.array([[1,2,3],[4,5,6],[7,8,9]])"
      ],
      "metadata": {
        "id": "GHlA0f6a1Vlb"
      },
      "execution_count": null,
      "outputs": []
    },
    {
      "cell_type": "code",
      "source": [
        "matris[0:3,0]#virgülün sol tarafı [] alır,sağ tarafıda onlaın içindekilerde işlem yapmaı sağlar.(sonuç 0 dan 3 e kadar alır.onların 0. elemanını yazdırır)"
      ],
      "metadata": {
        "colab": {
          "base_uri": "https://localhost:8080/"
        },
        "id": "84R1y4Cl1eBE",
        "outputId": "801d933e-d992-42e7-9215-ceea1e79e05b"
      },
      "execution_count": null,
      "outputs": [
        {
          "output_type": "execute_result",
          "data": {
            "text/plain": [
              "array([1, 4, 7])"
            ]
          },
          "metadata": {},
          "execution_count": 36
        }
      ]
    },
    {
      "cell_type": "code",
      "source": [
        "dir(np.random)#👉 dir() Python'da bir nesnenin içindeki tüm özellikleri (fonksiyonlar, değişkenler, vs.) listeleyen yerleşik (built-in) bir fonksiyondur."
      ],
      "metadata": {
        "colab": {
          "base_uri": "https://localhost:8080/"
        },
        "id": "Jljl1xgC1jcW",
        "outputId": "c40d4f9c-87fa-4336-bdb1-7ad5216af5c4"
      },
      "execution_count": null,
      "outputs": [
        {
          "output_type": "execute_result",
          "data": {
            "text/plain": [
              "['BitGenerator',\n",
              " 'Generator',\n",
              " 'MT19937',\n",
              " 'PCG64',\n",
              " 'PCG64DXSM',\n",
              " 'Philox',\n",
              " 'RandomState',\n",
              " 'SFC64',\n",
              " 'SeedSequence',\n",
              " '__RandomState_ctor',\n",
              " '__all__',\n",
              " '__builtins__',\n",
              " '__cached__',\n",
              " '__doc__',\n",
              " '__file__',\n",
              " '__loader__',\n",
              " '__name__',\n",
              " '__package__',\n",
              " '__path__',\n",
              " '__spec__',\n",
              " '_bounded_integers',\n",
              " '_common',\n",
              " '_generator',\n",
              " '_mt19937',\n",
              " '_pcg64',\n",
              " '_philox',\n",
              " '_pickle',\n",
              " '_sfc64',\n",
              " 'beta',\n",
              " 'binomial',\n",
              " 'bit_generator',\n",
              " 'bytes',\n",
              " 'chisquare',\n",
              " 'choice',\n",
              " 'default_rng',\n",
              " 'dirichlet',\n",
              " 'exponential',\n",
              " 'f',\n",
              " 'gamma',\n",
              " 'geometric',\n",
              " 'get_bit_generator',\n",
              " 'get_state',\n",
              " 'gumbel',\n",
              " 'hypergeometric',\n",
              " 'laplace',\n",
              " 'logistic',\n",
              " 'lognormal',\n",
              " 'logseries',\n",
              " 'mtrand',\n",
              " 'multinomial',\n",
              " 'multivariate_normal',\n",
              " 'negative_binomial',\n",
              " 'noncentral_chisquare',\n",
              " 'noncentral_f',\n",
              " 'normal',\n",
              " 'pareto',\n",
              " 'permutation',\n",
              " 'poisson',\n",
              " 'power',\n",
              " 'rand',\n",
              " 'randint',\n",
              " 'randn',\n",
              " 'random',\n",
              " 'random_integers',\n",
              " 'random_sample',\n",
              " 'ranf',\n",
              " 'rayleigh',\n",
              " 'sample',\n",
              " 'seed',\n",
              " 'set_bit_generator',\n",
              " 'set_state',\n",
              " 'shuffle',\n",
              " 'standard_cauchy',\n",
              " 'standard_exponential',\n",
              " 'standard_gamma',\n",
              " 'standard_normal',\n",
              " 'standard_t',\n",
              " 'test',\n",
              " 'triangular',\n",
              " 'uniform',\n",
              " 'vonmises',\n",
              " 'wald',\n",
              " 'weibull',\n",
              " 'zipf']"
            ]
          },
          "metadata": {},
          "execution_count": 37
        }
      ]
    },
    {
      "cell_type": "markdown",
      "source": [
        "# Random vektör ya da matris ya da diğer şeyler oluşturma"
      ],
      "metadata": {
        "id": "-4bKnyxKLCr2"
      }
    },
    {
      "cell_type": "code",
      "source": [
        "np.random.randint(0,5)"
      ],
      "metadata": {
        "colab": {
          "base_uri": "https://localhost:8080/"
        },
        "id": "bmBx8dSs4Aic",
        "outputId": "5a086a44-9e12-49cc-e814-7bede640d188"
      },
      "execution_count": null,
      "outputs": [
        {
          "output_type": "execute_result",
          "data": {
            "text/plain": [
              "4"
            ]
          },
          "metadata": {},
          "execution_count": 39
        }
      ]
    },
    {
      "cell_type": "code",
      "source": [
        "np.random.randint(0,5,(3,6))"
      ],
      "metadata": {
        "colab": {
          "base_uri": "https://localhost:8080/"
        },
        "id": "udzGvx5Q4H_N",
        "outputId": "cfc7badd-4a75-411a-843f-d2a90c0f90b1"
      },
      "execution_count": null,
      "outputs": [
        {
          "output_type": "execute_result",
          "data": {
            "text/plain": [
              "array([[1, 2, 1, 1, 0, 3],\n",
              "       [4, 3, 2, 1, 4, 4],\n",
              "       [0, 1, 1, 0, 2, 1]])"
            ]
          },
          "metadata": {},
          "execution_count": 40
        }
      ]
    },
    {
      "cell_type": "code",
      "source": [
        "np.random.randint(0,5,(3,8))/10"
      ],
      "metadata": {
        "colab": {
          "base_uri": "https://localhost:8080/"
        },
        "id": "LqZatqeM4MK5",
        "outputId": "ff9e1b0d-5cc5-4d4a-f1f0-feb9ee2b4555"
      },
      "execution_count": null,
      "outputs": [
        {
          "output_type": "execute_result",
          "data": {
            "text/plain": [
              "array([[0.2, 0.3, 0.4, 0. , 0.2, 0.2, 0. , 0.3],\n",
              "       [0.4, 0.1, 0. , 0.2, 0.1, 0.2, 0.2, 0. ],\n",
              "       [0.4, 0. , 0.4, 0.2, 0.2, 0.4, 0.3, 0. ]])"
            ]
          },
          "metadata": {},
          "execution_count": 7
        }
      ]
    },
    {
      "cell_type": "markdown",
      "source": [
        "# linspace reshape view copy"
      ],
      "metadata": {
        "id": "PNDbyVhvLGF5"
      }
    },
    {
      "cell_type": "code",
      "source": [
        "np.linspace(0,10,5)#0 dan 10 a kadar(10 dahil burda) aralığı 5 eşit parçaya böler"
      ],
      "metadata": {
        "id": "bpJXMIzG4aSS",
        "colab": {
          "base_uri": "https://localhost:8080/"
        },
        "outputId": "91b2f0a5-3bcd-45ee-db90-1462d559659b"
      },
      "execution_count": null,
      "outputs": [
        {
          "output_type": "execute_result",
          "data": {
            "text/plain": [
              "array([ 0. ,  2.5,  5. ,  7.5, 10. ])"
            ]
          },
          "metadata": {},
          "execution_count": 9
        }
      ]
    },
    {
      "cell_type": "code",
      "source": [
        "m1=np.random.randint(0,20,(3,4))\n",
        "m1"
      ],
      "metadata": {
        "colab": {
          "base_uri": "https://localhost:8080/"
        },
        "id": "V5quGbCuFsuQ",
        "outputId": "11446adb-96b2-46f5-bb1e-2ac2ece59894"
      },
      "execution_count": null,
      "outputs": [
        {
          "output_type": "execute_result",
          "data": {
            "text/plain": [
              "array([[ 8,  9, 15,  5],\n",
              "       [ 4,  1, 13, 14],\n",
              "       [15,  3,  7, 13]])"
            ]
          },
          "metadata": {},
          "execution_count": 13
        }
      ]
    },
    {
      "cell_type": "code",
      "source": [
        "m1.reshape(6,2)#tekrar boyutlandırır"
      ],
      "metadata": {
        "colab": {
          "base_uri": "https://localhost:8080/"
        },
        "id": "In1tNUUkGiOF",
        "outputId": "782b8651-4d1e-41d7-e249-cfe544380e2e"
      },
      "execution_count": null,
      "outputs": [
        {
          "output_type": "execute_result",
          "data": {
            "text/plain": [
              "array([[ 8,  9],\n",
              "       [15,  5],\n",
              "       [ 4,  1],\n",
              "       [13, 14],\n",
              "       [15,  3],\n",
              "       [ 7, 13]])"
            ]
          },
          "metadata": {},
          "execution_count": 14
        }
      ]
    },
    {
      "cell_type": "code",
      "source": [
        "matris1=np.random.randint(0,20,(3,4))\n",
        "matris2=matris1.view()#view matris1 i matris2 ye kopyalar.matris2 deki değişiklikler matris1 e etki eder.\n",
        "matris2"
      ],
      "metadata": {
        "colab": {
          "base_uri": "https://localhost:8080/"
        },
        "id": "6_gD2kiiGm3J",
        "outputId": "422ea859-23de-4db4-8b66-88906558019b"
      },
      "execution_count": null,
      "outputs": [
        {
          "output_type": "execute_result",
          "data": {
            "text/plain": [
              "array([[ 7,  7, 18, 11],\n",
              "       [15,  6, 19,  7],\n",
              "       [ 6, 19,  3, 19]])"
            ]
          },
          "metadata": {},
          "execution_count": 18
        }
      ]
    },
    {
      "cell_type": "code",
      "source": [
        "matris3=np.random.randint(0,20,(3,4))\n",
        "matris4=matris3.copy()#view matris1 i matris2 ye kopyalar.matris2 deki değişiklikler matris1 e etki etmez.\n",
        "matris4"
      ],
      "metadata": {
        "colab": {
          "base_uri": "https://localhost:8080/"
        },
        "id": "33C6jvUtGxOG",
        "outputId": "21df3cb8-8938-43b2-a849-952113e8ac8a"
      },
      "execution_count": null,
      "outputs": [
        {
          "output_type": "execute_result",
          "data": {
            "text/plain": [
              "array([[17,  2,  6,  1],\n",
              "       [11, 11,  2,  3],\n",
              "       [11, 12, 10,  3]])"
            ]
          },
          "metadata": {},
          "execution_count": 19
        }
      ]
    },
    {
      "cell_type": "code",
      "source": [
        "matris=np.ones((3,4))#1 le 3,4 lük matris oluşturur\n",
        "matris"
      ],
      "metadata": {
        "colab": {
          "base_uri": "https://localhost:8080/"
        },
        "id": "ktQQHjXRG5Zm",
        "outputId": "5d1f931a-60c0-4f22-a468-4c1f8c92fe92"
      },
      "execution_count": null,
      "outputs": [
        {
          "output_type": "execute_result",
          "data": {
            "text/plain": [
              "array([[1., 1., 1., 1.],\n",
              "       [1., 1., 1., 1.],\n",
              "       [1., 1., 1., 1.]])"
            ]
          },
          "metadata": {},
          "execution_count": 22
        }
      ]
    },
    {
      "cell_type": "code",
      "source": [
        "matris=np.zeros((4,5))#0 la 4,5 lik matris oluşturur\n",
        "matris"
      ],
      "metadata": {
        "colab": {
          "base_uri": "https://localhost:8080/"
        },
        "id": "fhFul9joHnIm",
        "outputId": "c225600a-19c7-4230-c66b-5ff830dd42ee"
      },
      "execution_count": null,
      "outputs": [
        {
          "output_type": "execute_result",
          "data": {
            "text/plain": [
              "array([[0., 0., 0., 0., 0.],\n",
              "       [0., 0., 0., 0., 0.],\n",
              "       [0., 0., 0., 0., 0.],\n",
              "       [0., 0., 0., 0., 0.]])"
            ]
          },
          "metadata": {},
          "execution_count": 24
        }
      ]
    },
    {
      "cell_type": "code",
      "source": [
        "matris=np.full((3,4),5)#5 le 3,4 lük matris oluşturur\n",
        "matris"
      ],
      "metadata": {
        "colab": {
          "base_uri": "https://localhost:8080/"
        },
        "id": "PT8-YPKoHv-y",
        "outputId": "ca1de4b2-db51-4125-88fc-8591dde4c467"
      },
      "execution_count": null,
      "outputs": [
        {
          "output_type": "execute_result",
          "data": {
            "text/plain": [
              "array([[5, 5, 5, 5],\n",
              "       [5, 5, 5, 5],\n",
              "       [5, 5, 5, 5]])"
            ]
          },
          "metadata": {},
          "execution_count": 26
        }
      ]
    },
    {
      "cell_type": "markdown",
      "source": [
        "#eye diag identity"
      ],
      "metadata": {
        "id": "CTdmNZjeLKQS"
      }
    },
    {
      "cell_type": "code",
      "source": [
        "np.identity(5)#5 lik birim matrisin 1 ile köşegenini oluşturur"
      ],
      "metadata": {
        "colab": {
          "base_uri": "https://localhost:8080/"
        },
        "id": "Pada54zdIu85",
        "outputId": "06d43b53-3d50-49fc-dec7-befd44d6f46b"
      },
      "execution_count": null,
      "outputs": [
        {
          "output_type": "execute_result",
          "data": {
            "text/plain": [
              "array([[1., 0., 0., 0., 0.],\n",
              "       [0., 1., 0., 0., 0.],\n",
              "       [0., 0., 1., 0., 0.],\n",
              "       [0., 0., 0., 1., 0.],\n",
              "       [0., 0., 0., 0., 1.]])"
            ]
          },
          "metadata": {},
          "execution_count": 51
        }
      ]
    },
    {
      "cell_type": "code",
      "source": [
        "np.eye(5,k=2)#5 lik birim matrisin 1 ile köşegenini oluşturur ama bunda köşegenin yerini ayarlayabilirsin(ters yön için - kullanıyon)"
      ],
      "metadata": {
        "colab": {
          "base_uri": "https://localhost:8080/"
        },
        "id": "s8YjcOoeLvAZ",
        "outputId": "16e01ecb-bad8-4e8a-b146-d713a7f00212"
      },
      "execution_count": null,
      "outputs": [
        {
          "output_type": "execute_result",
          "data": {
            "text/plain": [
              "array([[0., 0., 1., 0., 0.],\n",
              "       [0., 0., 0., 1., 0.],\n",
              "       [0., 0., 0., 0., 1.],\n",
              "       [0., 0., 0., 0., 0.],\n",
              "       [0., 0., 0., 0., 0.]])"
            ]
          },
          "metadata": {},
          "execution_count": 52
        }
      ]
    },
    {
      "cell_type": "code",
      "source": [
        "np.diag([1,2,3,4,555])#köşegeni kendin ayarlıyon"
      ],
      "metadata": {
        "colab": {
          "base_uri": "https://localhost:8080/"
        },
        "id": "1bUinplzL-O6",
        "outputId": "1565081e-ef47-4906-a834-30578a6c8149"
      },
      "execution_count": null,
      "outputs": [
        {
          "output_type": "execute_result",
          "data": {
            "text/plain": [
              "array([[  1,   0,   0,   0,   0],\n",
              "       [  0,   2,   0,   0,   0],\n",
              "       [  0,   0,   3,   0,   0],\n",
              "       [  0,   0,   0,   4,   0],\n",
              "       [  0,   0,   0,   0, 555]])"
            ]
          },
          "metadata": {},
          "execution_count": 32
        }
      ]
    },
    {
      "cell_type": "code",
      "source": [
        "r=np.random.randint(0,10,(3,3))\n",
        "r"
      ],
      "metadata": {
        "colab": {
          "base_uri": "https://localhost:8080/"
        },
        "id": "dOxyj-9OMH_k",
        "outputId": "6b736647-9936-4b1c-9a39-27e72c0a9b05"
      },
      "execution_count": null,
      "outputs": [
        {
          "output_type": "execute_result",
          "data": {
            "text/plain": [
              "array([[8, 4, 1],\n",
              "       [7, 6, 7],\n",
              "       [3, 4, 6]])"
            ]
          },
          "metadata": {},
          "execution_count": 36
        }
      ]
    },
    {
      "cell_type": "code",
      "source": [
        "np.diag(r)"
      ],
      "metadata": {
        "colab": {
          "base_uri": "https://localhost:8080/"
        },
        "id": "o6g9qI0BMODc",
        "outputId": "0e886f54-ab58-43b8-dfb5-463347280ee1"
      },
      "execution_count": null,
      "outputs": [
        {
          "output_type": "execute_result",
          "data": {
            "text/plain": [
              "array([8, 6, 6])"
            ]
          },
          "metadata": {},
          "execution_count": 38
        }
      ]
    },
    {
      "cell_type": "code",
      "source": [
        "np.diag(np.diag(r))#köşegenini aldık"
      ],
      "metadata": {
        "colab": {
          "base_uri": "https://localhost:8080/"
        },
        "id": "-eTy5dgjMUZB",
        "outputId": "69c5965d-b561-4005-a591-bd9a52d36bb3"
      },
      "execution_count": null,
      "outputs": [
        {
          "output_type": "execute_result",
          "data": {
            "text/plain": [
              "array([[8, 0, 0],\n",
              "       [0, 6, 0],\n",
              "       [0, 0, 6]])"
            ]
          },
          "metadata": {},
          "execution_count": 37
        }
      ]
    },
    {
      "cell_type": "markdown",
      "source": [
        "# 4 İŞLEM"
      ],
      "metadata": {
        "id": "Wht916xgMeY2"
      }
    },
    {
      "cell_type": "code",
      "source": [
        "#pythonda bölmede sadece tam kısmını almak istiyorsan // kullanacan\n",
        "5//2"
      ],
      "metadata": {
        "colab": {
          "base_uri": "https://localhost:8080/"
        },
        "id": "JXnNrSb3MXOA",
        "outputId": "2e635a75-72ee-4a5a-df99-8939b4864cb1"
      },
      "execution_count": null,
      "outputs": [
        {
          "output_type": "execute_result",
          "data": {
            "text/plain": [
              "2"
            ]
          },
          "metadata": {},
          "execution_count": 39
        }
      ]
    },
    {
      "cell_type": "code",
      "source": [
        "m1=np.random.randint(0,10,(3,3))\n",
        "m2=np.random.randint(0,10,(3,3))"
      ],
      "metadata": {
        "id": "S8c3kqvxNY_Y"
      },
      "execution_count": null,
      "outputs": []
    },
    {
      "cell_type": "code",
      "source": [
        "m1+m2"
      ],
      "metadata": {
        "colab": {
          "base_uri": "https://localhost:8080/"
        },
        "id": "tXhTxuA8PNin",
        "outputId": "122c00b9-9933-429b-a531-bc25a91dbf59"
      },
      "execution_count": null,
      "outputs": [
        {
          "output_type": "execute_result",
          "data": {
            "text/plain": [
              "array([[10, 13, 13],\n",
              "       [ 9,  8, 10],\n",
              "       [12, 15, 10]])"
            ]
          },
          "metadata": {},
          "execution_count": 41
        }
      ]
    },
    {
      "cell_type": "code",
      "source": [
        "m1*m2"
      ],
      "metadata": {
        "colab": {
          "base_uri": "https://localhost:8080/"
        },
        "id": "wak_LWjmPOnY",
        "outputId": "3eb06ee1-9f08-40a3-cbec-6b3cf894049e"
      },
      "execution_count": null,
      "outputs": [
        {
          "output_type": "execute_result",
          "data": {
            "text/plain": [
              "array([[21, 40, 42],\n",
              "       [14, 12,  9],\n",
              "       [32, 54, 16]])"
            ]
          },
          "metadata": {},
          "execution_count": 42
        }
      ]
    },
    {
      "cell_type": "code",
      "source": [
        "m1/m2"
      ],
      "metadata": {
        "colab": {
          "base_uri": "https://localhost:8080/"
        },
        "id": "DkyLiw2bPQG6",
        "outputId": "5cf8d95a-7c73-462c-ec93-03f2f52f5830"
      },
      "execution_count": null,
      "outputs": [
        {
          "output_type": "execute_result",
          "data": {
            "text/plain": [
              "array([[0.42857143, 0.625     , 0.85714286],\n",
              "       [0.28571429, 0.33333333, 9.        ],\n",
              "       [2.        , 0.66666667, 0.25      ]])"
            ]
          },
          "metadata": {},
          "execution_count": 43
        }
      ]
    },
    {
      "cell_type": "code",
      "source": [
        "m1//m2"
      ],
      "metadata": {
        "colab": {
          "base_uri": "https://localhost:8080/"
        },
        "id": "l9y4ZECHPReK",
        "outputId": "82e8854e-a3f9-461c-b79d-1975c54ea057"
      },
      "execution_count": null,
      "outputs": [
        {
          "output_type": "execute_result",
          "data": {
            "text/plain": [
              "array([[0, 0, 0],\n",
              "       [0, 0, 9],\n",
              "       [2, 0, 0]])"
            ]
          },
          "metadata": {},
          "execution_count": 44
        }
      ]
    },
    {
      "cell_type": "code",
      "source": [
        "m3=np.random.randint(0,10,(5,5))"
      ],
      "metadata": {
        "id": "8nBr3BNYPSlI"
      },
      "execution_count": null,
      "outputs": []
    },
    {
      "cell_type": "code",
      "source": [
        "#matrisler aynı boyutta olmalı işlem yapabilmek için aynı boyuta eşitlemen lazım"
      ],
      "metadata": {
        "id": "0OGk4XbhPZm-"
      },
      "execution_count": null,
      "outputs": []
    },
    {
      "cell_type": "code",
      "source": [
        "m3.reshape(25)[:9].reshape((3,3))+m2"
      ],
      "metadata": {
        "colab": {
          "base_uri": "https://localhost:8080/"
        },
        "id": "XVdPBn8OPm1l",
        "outputId": "6c070e11-9e1e-48fe-aea2-c46ccb09f68b"
      },
      "execution_count": null,
      "outputs": [
        {
          "output_type": "execute_result",
          "data": {
            "text/plain": [
              "array([[16,  8, 11],\n",
              "       [13,  7,  8],\n",
              "       [ 8, 13,  9]])"
            ]
          },
          "metadata": {},
          "execution_count": 50
        }
      ]
    },
    {
      "cell_type": "markdown",
      "source": [
        "#Numpy ile Mantıksal operatörler ve filtreleme"
      ],
      "metadata": {
        "id": "5krkD167QOM0"
      }
    },
    {
      "cell_type": "code",
      "source": [
        "#numpyde pythondaki and or not yerine & | ~ kullanılır"
      ],
      "metadata": {
        "id": "qnIGSC8mPy22"
      },
      "execution_count": null,
      "outputs": []
    },
    {
      "cell_type": "code",
      "source": [
        "m1=np.random.randint(2,10,(3,4))"
      ],
      "metadata": {
        "id": "Cdg_LcLVSMHd"
      },
      "execution_count": null,
      "outputs": []
    },
    {
      "cell_type": "code",
      "source": [
        "m1[m1%2==0]#böyle çıktıları dizi olarak verir"
      ],
      "metadata": {
        "colab": {
          "base_uri": "https://localhost:8080/"
        },
        "id": "M6jDUGnRTMpw",
        "outputId": "f83f7a83-04a6-40ef-c19f-2318c72d7449"
      },
      "execution_count": null,
      "outputs": [
        {
          "output_type": "execute_result",
          "data": {
            "text/plain": [
              "array([6, 4, 2, 8, 2, 8, 8])"
            ]
          },
          "metadata": {},
          "execution_count": 57
        }
      ]
    },
    {
      "cell_type": "code",
      "source": [
        "cift=m1%2==0\n",
        "tek=~cift\n"
      ],
      "metadata": {
        "id": "NOrfaKZlTbz4"
      },
      "execution_count": null,
      "outputs": []
    },
    {
      "cell_type": "code",
      "source": [
        "m1[cift]"
      ],
      "metadata": {
        "colab": {
          "base_uri": "https://localhost:8080/"
        },
        "id": "la9WWndhTzl7",
        "outputId": "783248da-a9be-41b8-84f3-dd88d8093920"
      },
      "execution_count": null,
      "outputs": [
        {
          "output_type": "execute_result",
          "data": {
            "text/plain": [
              "array([6, 4, 2, 8, 2, 8, 8])"
            ]
          },
          "metadata": {},
          "execution_count": 59
        }
      ]
    },
    {
      "cell_type": "code",
      "source": [
        "m1[tek]"
      ],
      "metadata": {
        "colab": {
          "base_uri": "https://localhost:8080/"
        },
        "id": "rrY0S8CVT1Oj",
        "outputId": "e260ba79-dce4-4c97-a9c9-ef1d4085caaf"
      },
      "execution_count": null,
      "outputs": [
        {
          "output_type": "execute_result",
          "data": {
            "text/plain": [
              "array([9, 3, 9, 7, 3])"
            ]
          },
          "metadata": {},
          "execution_count": 60
        }
      ]
    },
    {
      "cell_type": "code",
      "source": [
        "#böyle oluşturabilirsin"
      ],
      "metadata": {
        "id": "x_iIx_PbT3dH"
      },
      "execution_count": null,
      "outputs": []
    }
  ]
}